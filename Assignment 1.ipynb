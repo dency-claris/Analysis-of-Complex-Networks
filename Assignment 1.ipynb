{
 "cells": [
  {
   "cell_type": "markdown",
   "metadata": {},
   "source": [
    "## Assignment 1"
   ]
  },
  {
   "cell_type": "markdown",
   "metadata": {},
   "source": [
    "(a)  How many nodes and edges are there in the networks?"
   ]
  },
  {
   "cell_type": "code",
   "execution_count": 3,
   "metadata": {},
   "outputs": [
    {
     "name": "stdout",
     "output_type": "stream",
     "text": [
      "Facebook-Ego Network: 157 nodes, 569 edges\n"
     ]
    }
   ],
   "source": [
    "import networkx as nx\n",
    "\n",
    "# Path to the Facebook-Ego dataset files\n",
    "facebook_edges_file = 'datasets/1684.edges'\n",
    "\n",
    "# Load the Facebook ego network\n",
    "facebook_ego_graph = nx.read_edgelist(facebook_edges_file)\n",
    "\n",
    "# Get number of nodes and edges\n",
    "num_nodes_facebook = facebook_ego_graph.number_of_nodes()\n",
    "num_edges_facebook = facebook_ego_graph.number_of_edges()\n",
    "\n",
    "print(f\"Facebook-Ego Network: {num_nodes_facebook} nodes, {num_edges_facebook} edges\")\n"
   ]
  },
  {
   "cell_type": "code",
   "execution_count": 4,
   "metadata": {},
   "outputs": [
    {
     "name": "stdout",
     "output_type": "stream",
     "text": [
      "Twitter-Ego Network: 143 nodes, 2830 edges\n"
     ]
    }
   ],
   "source": [
    "# Path to the Twitter-Ego dataset files\n",
    "twitter_edges_file = 'datasets/2029971.edges'\n",
    "\n",
    "# Load the Twitter ego network (directed)\n",
    "twitter_ego_graph = nx.read_edgelist(twitter_edges_file, create_using=nx.DiGraph())\n",
    "\n",
    "# Get number of nodes and edges\n",
    "num_nodes_twitter = twitter_ego_graph.number_of_nodes()\n",
    "num_edges_twitter = twitter_ego_graph.number_of_edges()\n",
    "\n",
    "print(f\"Twitter-Ego Network: {num_nodes_twitter} nodes, {num_edges_twitter} edges\")\n"
   ]
  },
  {
   "cell_type": "markdown",
   "metadata": {},
   "source": [
    "(b) What are the maximum degree and the average degree of the networks?"
   ]
  },
  {
   "cell_type": "code",
   "execution_count": 8,
   "metadata": {},
   "outputs": [
    {
     "name": "stdout",
     "output_type": "stream",
     "text": [
      "Facebook-Ego Network: Maximum Degree = 30, Average Degree = 7.25\n"
     ]
    }
   ],
   "source": [
    "# Calculate maximum degree and average degree for Facebook-Ego\n",
    "degrees_facebook = [degree for node, degree in facebook_ego_graph.degree()]\n",
    "max_degree_facebook = max(degrees_facebook)\n",
    "avg_degree_facebook = sum(degrees_facebook) / num_nodes_facebook\n",
    "\n",
    "print(f\"Facebook-Ego Network: Maximum Degree = {max_degree_facebook}, Average Degree = {avg_degree_facebook:.2f}\")\n"
   ]
  },
  {
   "cell_type": "code",
   "execution_count": 6,
   "metadata": {},
   "outputs": [
    {
     "name": "stdout",
     "output_type": "stream",
     "text": [
      "Twitter-Ego Network: Maximum Degree = 142, Average Degree = 39.58\n"
     ]
    }
   ],
   "source": [
    "# Calculate maximum degree and average degree for Twitter-Ego\n",
    "degrees_twitter = [degree for node, degree in twitter_ego_graph.degree()]\n",
    "max_degree_twitter = max(degrees_twitter)\n",
    "avg_degree_twitter = sum(degrees_twitter) / num_nodes_twitter\n",
    "\n",
    "print(f\"Twitter-Ego Network: Maximum Degree = {max_degree_twitter}, Average Degree = {avg_degree_twitter:.2f}\")\n"
   ]
  },
  {
   "cell_type": "markdown",
   "metadata": {},
   "source": [
    "(c) Extract 5 - 8 nodes from the network and state them as a partial network. What is the adjacency\n",
    "matrix of the partial network? Why do we need adjacency matrix to describe the structure of\n",
    "the network?"
   ]
  },
  {
   "cell_type": "code",
   "execution_count": 14,
   "metadata": {},
   "outputs": [
    {
     "name": "stdout",
     "output_type": "stream",
     "text": [
      "Facebook-Ego Partial Network Nodes: ['1419', '2780', '2791', '2696', '2669', '2750']\n",
      "Adjacency Matrix:\n",
      "[[0. 0. 0. 0. 0. 0.]\n",
      " [0. 0. 0. 0. 0. 0.]\n",
      " [0. 0. 0. 0. 0. 0.]\n",
      " [0. 0. 0. 0. 1. 0.]\n",
      " [0. 0. 0. 1. 0. 0.]\n",
      " [0. 0. 0. 0. 0. 0.]]\n",
      "Twitter-Ego Partial Network Nodes: ['24038026', '23002488', '11440442', '58407373', '12378512', '14276654']\n",
      "Adjacency Matrix:\n",
      "[[0. 0. 0. 0. 0. 0.]\n",
      " [0. 0. 0. 0. 0. 0.]\n",
      " [0. 0. 0. 0. 0. 0.]\n",
      " [0. 0. 0. 0. 0. 0.]\n",
      " [0. 0. 0. 0. 0. 0.]\n",
      " [0. 0. 0. 0. 0. 0.]]\n"
     ]
    }
   ],
   "source": [
    "import random\n",
    "import numpy as np\n",
    "\n",
    "# Function to extract a partial network and its adjacency matrix\n",
    "def extract_partial_network(graph, num_nodes):\n",
    "    # Convert graph nodes to a list\n",
    "    node_list = list(graph.nodes())\n",
    "    # Randomly select nodes\n",
    "    selected_nodes = random.sample(node_list, num_nodes)\n",
    "    subgraph = graph.subgraph(selected_nodes)\n",
    "\n",
    "    # Get the adjacency matrix\n",
    "    adjacency_matrix = nx.to_numpy_array(subgraph)\n",
    "\n",
    "    return selected_nodes, adjacency_matrix\n",
    "\n",
    "# Extract partial network from Facebook-Ego\n",
    "facebook_partial_nodes, facebook_adjacency_matrix = extract_partial_network(facebook_ego_graph, 6)\n",
    "print(f\"Facebook-Ego Partial Network Nodes: {facebook_partial_nodes}\")\n",
    "print(\"Adjacency Matrix:\")\n",
    "print(facebook_adjacency_matrix)\n",
    "\n",
    "# Extract partial network from Twitter-Ego\n",
    "twitter_partial_nodes, twitter_adjacency_matrix = extract_partial_network(twitter_ego_graph, 6)\n",
    "print(f\"Twitter-Ego Partial Network Nodes: {twitter_partial_nodes}\")\n",
    "print(\"Adjacency Matrix:\")\n",
    "print(twitter_adjacency_matrix)\n"
   ]
  },
  {
   "cell_type": "markdown",
   "metadata": {},
   "source": [
    "The adjacency matrix is a powerful representation of a graph. It provides a concise way to represent the graph's structure. Each cell in the matrix indicates whether a pair of nodes is connected."
   ]
  }
 ],
 "metadata": {
  "kernelspec": {
   "display_name": "Python 3",
   "language": "python",
   "name": "python3"
  },
  "language_info": {
   "codemirror_mode": {
    "name": "ipython",
    "version": 3
   },
   "file_extension": ".py",
   "mimetype": "text/x-python",
   "name": "python",
   "nbconvert_exporter": "python",
   "pygments_lexer": "ipython3",
   "version": "3.10.6"
  }
 },
 "nbformat": 4,
 "nbformat_minor": 2
}
